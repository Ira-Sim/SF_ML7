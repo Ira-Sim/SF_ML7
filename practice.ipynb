{
 "cells": [
  {
   "cell_type": "code",
   "execution_count": 30,
   "metadata": {},
   "outputs": [],
   "source": [
    "import pandas as pd \n",
    "import numpy as np\n",
    "\n",
    "from sklearn import ensemble\n",
    "from sklearn import linear_model\n",
    "from sklearn import metrics\n",
    "from sklearn import model_selection\n",
    "from sklearn.model_selection import GridSearchCV\n",
    "from sklearn.model_selection import RandomizedSearchCV\n",
    "from sklearn.model_selection import train_test_split "
   ]
  },
  {
   "cell_type": "code",
   "execution_count": 4,
   "metadata": {},
   "outputs": [
    {
     "name": "stdout",
     "output_type": "stream",
     "text": [
      "(3751, 1777)\n"
     ]
    }
   ],
   "source": [
    "df = pd.read_csv('_train_sem09__1_.zip')\n",
    "print(df.shape)\n",
    "X = df.drop(columns=['Activity'])\n",
    "y = df['Activity']\n",
    "\n",
    "X_train, X_test, y_train, y_test = train_test_split(X, y, test_size= 0.2, random_state = 1 )"
   ]
  },
  {
   "cell_type": "code",
   "execution_count": 7,
   "metadata": {},
   "outputs": [
    {
     "name": "stdout",
     "output_type": "stream",
     "text": [
      "Train f1 score 0.90\n",
      "Test f1 score 0.78\n"
     ]
    }
   ],
   "source": [
    "# Logistic regression\n",
    "lr = linear_model.LogisticRegression(random_state= 1, solver = 'liblinear')\n",
    "lr.fit(X_train, y_train)\n",
    "print('Train f1 score {:.2f}'.format(metrics.f1_score(lr.predict(X_train), y_train)))\n",
    "print('Test f1 score {:.2f}'.format(metrics.f1_score(lr.predict(X_test), y_test)))"
   ]
  },
  {
   "cell_type": "code",
   "execution_count": 8,
   "metadata": {},
   "outputs": [
    {
     "name": "stdout",
     "output_type": "stream",
     "text": [
      "Train f1 score 1.00\n",
      "Test f1 score 0.82\n"
     ]
    }
   ],
   "source": [
    "# Logistic regression\n",
    "rf = ensemble.RandomForestClassifier(random_state = 1)\n",
    "rf.fit(X_train, y_train)\n",
    "print('Train f1 score {:.2f}'.format(metrics.f1_score(rf.predict(X_train), y_train)))\n",
    "print('Test f1 score {:.2f}'.format(metrics.f1_score(rf.predict(X_test), y_test)))"
   ]
  },
  {
   "cell_type": "markdown",
   "metadata": {},
   "source": [
    "# Grid Search"
   ]
  },
  {
   "cell_type": "markdown",
   "metadata": {},
   "source": [
    "##  Logistic Regression "
   ]
  },
  {
   "cell_type": "code",
   "execution_count": 11,
   "metadata": {},
   "outputs": [
    {
     "name": "stdout",
     "output_type": "stream",
     "text": [
      "accuracy на тестовом наборе: 0.78\n",
      "f1_score на тестовом наборе: 0.80\n",
      "Наилучшие значения гиперпараметров: {'C': 0.1, 'penalty': 'l2', 'solver': 'lbfgs'}\n"
     ]
    }
   ],
   "source": [
    "grid_params = {\n",
    "    'penalty': ['l2', 'none'] ,       #тип регурялизации\n",
    "    'solver': ['lbfgs', 'saga'],          #алгоритм оптимизации\n",
    "    'C': [0.01, 0.1, 0.3, 0.5, 0.7, 0.9, 1]   \n",
    "     }\n",
    "\n",
    "grid_search = GridSearchCV(\n",
    "    estimator=linear_model.LogisticRegression(\n",
    "        random_state=42, #генератор случайных чисел\n",
    "        max_iter=1000 #количество итераций на сходимость\n",
    "    ), \n",
    "    param_grid=grid_params, \n",
    "    cv=5, \n",
    "    n_jobs = -1\n",
    ")\n",
    "grid_search.fit(X_train, y_train)\n",
    "print('Train f1 score {:.2f}'.format(metrics.f1_score(grid_search.predict(X_train), y_train)))\n",
    "print('Test f1 score {:.2f}'.format(metrics.f1_score(grid_search.predict(X_test), y_test)))\n",
    "print(\"Наилучшие значения гиперпараметров: {}\".format(grid_search.best_params_))"
   ]
  },
  {
   "cell_type": "markdown",
   "metadata": {},
   "source": [
    "## Random Forest"
   ]
  },
  {
   "cell_type": "code",
   "execution_count": 15,
   "metadata": {},
   "outputs": [
    {
     "name": "stdout",
     "output_type": "stream",
     "text": [
      "Train f1 score 0.92\n",
      "Test f1 score 0.80\n",
      "Наилучшие значения гиперпараметров: {'max_depth': 17, 'min_samples_split': 0.01}\n"
     ]
    }
   ],
   "source": [
    "grid_params = {\n",
    "    'max_depth': list(np.linspace(1, 30, 10, dtype=int)),\n",
    "    'min_samples_split': list(np.linspace(0.01, 1, 10, dtype=float))\n",
    "    }\n",
    "\n",
    "\n",
    "grid_search = GridSearchCV(\n",
    "    estimator=ensemble.RandomForestClassifier(\n",
    "        random_state = 1), \n",
    "    param_grid=grid_params, \n",
    "    cv=5, \n",
    "    n_jobs = -1\n",
    ")\n",
    "grid_search.fit(X_train, y_train)\n",
    "print('Train f1 score {:.2f}'.format(metrics.f1_score(grid_search.predict(X_train), y_train)))\n",
    "print('Test f1 score {:.2f}'.format(metrics.f1_score(grid_search.predict(X_test), y_test)))\n",
    "print(\"Наилучшие значения гиперпараметров: {}\".format(grid_search.best_params_))"
   ]
  },
  {
   "cell_type": "markdown",
   "metadata": {},
   "source": [
    "# Randomized Search"
   ]
  },
  {
   "cell_type": "markdown",
   "metadata": {},
   "source": [
    "## Logistic Regression"
   ]
  },
  {
   "cell_type": "code",
   "execution_count": 16,
   "metadata": {},
   "outputs": [
    {
     "name": "stderr",
     "output_type": "stream",
     "text": [
      "c:\\Users\\vi04wecu\\Anaconda3\\lib\\site-packages\\sklearn\\model_selection\\_search.py:285: UserWarning: The total space of parameters 40 is smaller than n_iter=50. Running 40 iterations. For exhaustive searches, use GridSearchCV.\n",
      "  warnings.warn(\n"
     ]
    },
    {
     "name": "stdout",
     "output_type": "stream",
     "text": [
      "Train f1 score 0.86\n",
      "Test f1 score 0.80\n",
      "Наилучшие значения гиперпараметров: {'solver': 'lbfgs', 'penalty': 'l2', 'C': 0.12}\n"
     ]
    }
   ],
   "source": [
    "param_grid = {'penalty': ['l2', 'none'] ,\n",
    "              'solver': ['lbfgs', 'sag'],\n",
    "               'C': list(np.linspace(0.01, 1, 20, dtype=float))},\n",
    "            \n",
    "random_search = RandomizedSearchCV(\n",
    "    estimator=linear_model.LogisticRegression(random_state=42, max_iter=1000), \n",
    "    param_distributions=param_grid, \n",
    "    cv=5, \n",
    "    n_iter = 50, \n",
    "    n_jobs = -1\n",
    ")  \n",
    "random_search.fit(X_train, y_train) \n",
    "print('Train f1 score {:.2f}'.format(metrics.f1_score(random_search.predict(X_train), y_train)))\n",
    "print('Test f1 score {:.2f}'.format(metrics.f1_score(random_search.predict(X_test), y_test)))\n",
    "print(\"Наилучшие значения гиперпараметров: {}\".format(random_search.best_params_))"
   ]
  },
  {
   "cell_type": "markdown",
   "metadata": {},
   "source": [
    "## Random Forest"
   ]
  },
  {
   "cell_type": "code",
   "execution_count": null,
   "metadata": {},
   "outputs": [],
   "source": [
    "param_grid = {'min_samples_leaf': list(np.linspace(0.01, 1, 50, dtype=float)),\n",
    "              'max_depth': list(np.linspace(1, 30, 50, dtype=int)),\n",
    "              'criterion':['entropy','gini']\n",
    "              }\n",
    "            \n",
    "random_search = RandomizedSearchCV(\n",
    "    estimator=ensemble.RandomForestClassifier(\n",
    "        random_state = 1), \n",
    "    param_distributions=param_grid, \n",
    "    cv=5,\n",
    "    n_iter = 50, \n",
    "    n_jobs = -1\n",
    ")  \n",
    "\n",
    "random_search.fit(X_train, y_train) \n",
    "print(\"accuracy на тестовом наборе: {:.2f}\".format(random_search.score(X_test, y_test)))\n",
    "y_test_pred = random_search.predict(X_test)\n",
    "print('f1_score на тестовом наборе: {:.2f}'.format(metrics.f1_score(y_test, y_test_pred)))\n",
    "print(\"Наилучшие значения гиперпараметров: {}\".format(random_search.best_params_))"
   ]
  },
  {
   "cell_type": "markdown",
   "metadata": {},
   "source": [
    "# Hyperopt"
   ]
  },
  {
   "cell_type": "code",
   "execution_count": 60,
   "metadata": {},
   "outputs": [],
   "source": [
    "from sklearn.model_selection import cross_val_score\n",
    "import hyperopt\n",
    "import imp\n",
    "imp.reload(hyperopt)\n",
    "from hyperopt import hp, fmin, tpe, Trials"
   ]
  },
  {
   "cell_type": "markdown",
   "metadata": {},
   "source": [
    "## Logistic Regression"
   ]
  },
  {
   "cell_type": "code",
   "execution_count": null,
   "metadata": {},
   "outputs": [],
   "source": []
  },
  {
   "cell_type": "markdown",
   "metadata": {},
   "source": [
    "## Random Forest"
   ]
  },
  {
   "cell_type": "code",
   "execution_count": 64,
   "metadata": {},
   "outputs": [
    {
     "name": "stdout",
     "output_type": "stream",
     "text": [
      "100%|██████████| 40/40 [07:06<00:00, 10.67s/trial, best loss: -0.8275894426137052]\n",
      "Наилучшие значения гиперпараметров {'max_depth': 17.0, 'n_estimators': 160.0}\n",
      "Train f1 score 1.00\n",
      "Test f1 score 0.83\n"
     ]
    }
   ],
   "source": [
    "# зададим пространство поиска гиперпараметров\n",
    "space={'n_estimators': hp.quniform('n_estimators', 100, 200, 1),\n",
    "       'max_depth' : hp.quniform('max_depth', 5, 40, 1)\n",
    "      }\n",
    "\n",
    "# зафксируем random_state\n",
    "random_state = 1\n",
    "def hyperopt_rf(params, cv=5, X=X_train, y=y_train, random_state=random_state):\n",
    "    # функция получает комбинацию гиперпараметров в \"params\"\n",
    "    params = {'n_estimators': int(params['n_estimators']), \n",
    "              'max_depth': int(params['max_depth'])\n",
    "              }\n",
    "  \n",
    "    # используем эту комбинацию для построения модели\n",
    "    model = ensemble.RandomForestClassifier(**params, random_state=random_state)\n",
    "\n",
    "    # обучаем модель\n",
    "    model.fit(X, y)\n",
    "    score = cross_val_score(model, X_train, y_train, cv=5, scoring=\"f1\", n_jobs=-1).mean()\n",
    "    \n",
    "    # метрику необходимо минимизировать, поэтому ставим знак минус\n",
    "    return -score\n",
    "\n",
    "# начинаем подбор гиперпараметров\n",
    "trials = Trials() # используется для логирования результатов\n",
    "\n",
    "best=fmin(hyperopt_rf, # наша функция \n",
    "          space=space, # пространство гиперпараметров\n",
    "          algo=tpe.suggest, # алгоритм оптимизации, установлен по умолчанию, задавать необязательно\n",
    "          max_evals=20, # максимальное количество итераций\n",
    "          trials=trials, # логирование результатов\n",
    "          rstate=np.random.RandomState(random_state)# фиксируем для повторяемости результата\n",
    "         )\n",
    "print(\"Наилучшие значения гиперпараметров {}\".format(best))\n",
    "\n",
    "# рассчитаем точность для тестовой выборки\n",
    "model = ensemble.RandomForestClassifier(\n",
    "    random_state=random_state, \n",
    "    n_estimators=int(best['n_estimators']),\n",
    "    max_depth=int(best['max_depth'])\n",
    ")\n",
    "model.fit(X_train, y_train)\n",
    "\n",
    "print('Train f1 score {:.2f}'.format(metrics.f1_score(model.predict(X_train), y_train)))\n",
    "print('Test f1 score {:.2f}'.format(metrics.f1_score(model.predict(X_test), y_test)))\n",
    "\n"
   ]
  },
  {
   "cell_type": "markdown",
   "metadata": {},
   "source": [
    "# Optuna"
   ]
  },
  {
   "cell_type": "code",
   "execution_count": 17,
   "metadata": {},
   "outputs": [],
   "source": [
    "import optuna"
   ]
  },
  {
   "cell_type": "markdown",
   "metadata": {},
   "source": [
    "## Logistic Regression"
   ]
  },
  {
   "cell_type": "code",
   "execution_count": 58,
   "metadata": {},
   "outputs": [
    {
     "name": "stderr",
     "output_type": "stream",
     "text": [
      "\u001b[32m[I 2022-05-16 19:01:47,667]\u001b[0m A new study created in memory with name: no-name-f65b838e-c83c-4593-839f-eb875fded475\u001b[0m\n",
      "\u001b[32m[I 2022-05-16 19:01:54,178]\u001b[0m Trial 0 finished with value: 0.7727286003913194 and parameters: {'C': 5989.1825656620895}. Best is trial 0 with value: 0.7727286003913194.\u001b[0m\n",
      "\u001b[32m[I 2022-05-16 19:02:03,569]\u001b[0m Trial 1 finished with value: 0.7727286003913194 and parameters: {'C': 8430.476469645715}. Best is trial 0 with value: 0.7727286003913194.\u001b[0m\n",
      "\u001b[32m[I 2022-05-16 19:02:13,504]\u001b[0m Trial 2 finished with value: 0.7727286003913194 and parameters: {'C': 3649.1895053594553}. Best is trial 0 with value: 0.7727286003913194.\u001b[0m\n",
      "\u001b[32m[I 2022-05-16 19:02:23,332]\u001b[0m Trial 3 finished with value: 0.7727286003913194 and parameters: {'C': 3774.4769629131306}. Best is trial 0 with value: 0.7727286003913194.\u001b[0m\n",
      "\u001b[32m[I 2022-05-16 19:02:33,379]\u001b[0m Trial 4 finished with value: 0.7727286003913194 and parameters: {'C': 1861.6214088715903}. Best is trial 0 with value: 0.7727286003913194.\u001b[0m\n",
      "\u001b[32m[I 2022-05-16 19:02:43,121]\u001b[0m Trial 5 finished with value: 0.7727286003913194 and parameters: {'C': 8335.715017586608}. Best is trial 0 with value: 0.7727286003913194.\u001b[0m\n",
      "\u001b[32m[I 2022-05-16 19:02:53,173]\u001b[0m Trial 6 finished with value: 0.7727286003913194 and parameters: {'C': 1407.5631552305952}. Best is trial 0 with value: 0.7727286003913194.\u001b[0m\n",
      "\u001b[32m[I 2022-05-16 19:03:03,269]\u001b[0m Trial 7 finished with value: 0.7727286003913194 and parameters: {'C': 2720.552138580215}. Best is trial 0 with value: 0.7727286003913194.\u001b[0m\n",
      "\u001b[32m[I 2022-05-16 19:03:14,262]\u001b[0m Trial 8 finished with value: 0.7727286003913194 and parameters: {'C': 3749.5270891913647}. Best is trial 0 with value: 0.7727286003913194.\u001b[0m\n",
      "\u001b[32m[I 2022-05-16 19:03:23,964]\u001b[0m Trial 9 finished with value: 0.7727286003913194 and parameters: {'C': 6612.140984822022}. Best is trial 0 with value: 0.7727286003913194.\u001b[0m\n"
     ]
    },
    {
     "name": "stdout",
     "output_type": "stream",
     "text": [
      "Train f1 score 0.91\n",
      "Test f1 score 0.74\n",
      "Наилучшие значения гиперпараметров {'C': 5989.1825656620895}\n"
     ]
    },
    {
     "name": "stderr",
     "output_type": "stream",
     "text": [
      "c:\\Users\\vi04wecu\\Anaconda3\\lib\\site-packages\\sklearn\\linear_model\\_logistic.py:763: ConvergenceWarning: lbfgs failed to converge (status=1):\n",
      "STOP: TOTAL NO. of ITERATIONS REACHED LIMIT.\n",
      "\n",
      "Increase the number of iterations (max_iter) or scale the data as shown in:\n",
      "    https://scikit-learn.org/stable/modules/preprocessing.html\n",
      "Please also refer to the documentation for alternative solver options:\n",
      "    https://scikit-learn.org/stable/modules/linear_model.html#logistic-regression\n",
      "  n_iter_i = _check_optimize_result(\n"
     ]
    }
   ],
   "source": [
    "def objective(trial):\n",
    "      C = trial.suggest_float('C', 0.0001, 10000)\n",
    "      clf = linear_model.LogisticRegression(C= C,\n",
    "                                            penalty= 'l2',\n",
    "                                            solver= 'sag',\n",
    "                                            random_state=1)\n",
    "      return model_selection.cross_val_score(clf, X_train, y_train, \n",
    "           n_jobs=-1, cv=5, scoring = 'f1').mean()\n",
    "      \n",
    "study = optuna.create_study(direction='maximize')\n",
    "study.optimize(objective, n_trials=10)\n",
    "\n",
    "\n",
    "# рассчитаем точность для тестовой выборки\n",
    "model = linear_model.LogisticRegression(**study.best_params,random_state=1)\n",
    "model.fit(X_train, y_train)\n",
    "print('Train f1 score {:.2f}'.format(metrics.f1_score(model.predict(X_train), y_train)))\n",
    "print('Test f1 score {:.2f}'.format(metrics.f1_score(model.predict(X_test), y_test)))\n",
    "# выводим результаты на обучающей выборке\n",
    "print(\"Наилучшие значения гиперпараметров {}\".format(study.best_params))"
   ]
  },
  {
   "cell_type": "markdown",
   "metadata": {},
   "source": [
    "## Random Forest"
   ]
  },
  {
   "cell_type": "code",
   "execution_count": 49,
   "metadata": {},
   "outputs": [
    {
     "name": "stderr",
     "output_type": "stream",
     "text": [
      "\u001b[32m[I 2022-05-16 18:47:24,424]\u001b[0m A new study created in memory with name: no-name-c2339c55-7ea6-4481-8057-575d439b19e6\u001b[0m\n",
      "\u001b[32m[I 2022-05-16 18:47:31,975]\u001b[0m Trial 0 finished with value: 0.8166441481000823 and parameters: {'n_estimators': 261, 'max_depth': 13}. Best is trial 0 with value: 0.8166441481000823.\u001b[0m\n",
      "\u001b[32m[I 2022-05-16 18:47:40,662]\u001b[0m Trial 1 finished with value: 0.8219645280931633 and parameters: {'n_estimators': 269, 'max_depth': 30}. Best is trial 1 with value: 0.8219645280931633.\u001b[0m\n",
      "\u001b[32m[I 2022-05-16 18:47:46,725]\u001b[0m Trial 2 finished with value: 0.819027746933522 and parameters: {'n_estimators': 184, 'max_depth': 14}. Best is trial 1 with value: 0.8219645280931633.\u001b[0m\n",
      "\u001b[32m[I 2022-05-16 18:47:54,906]\u001b[0m Trial 3 finished with value: 0.8217119082049751 and parameters: {'n_estimators': 261, 'max_depth': 23}. Best is trial 1 with value: 0.8219645280931633.\u001b[0m\n",
      "\u001b[32m[I 2022-05-16 18:47:58,621]\u001b[0m Trial 4 finished with value: 0.817334997278968 and parameters: {'n_estimators': 126, 'max_depth': 33}. Best is trial 1 with value: 0.8219645280931633.\u001b[0m\n",
      "\u001b[32m[I 2022-05-16 18:48:05,163]\u001b[0m Trial 5 finished with value: 0.8175827083891244 and parameters: {'n_estimators': 253, 'max_depth': 14}. Best is trial 1 with value: 0.8219645280931633.\u001b[0m\n",
      "\u001b[32m[I 2022-05-16 18:48:10,936]\u001b[0m Trial 6 finished with value: 0.8219266783868532 and parameters: {'n_estimators': 219, 'max_depth': 16}. Best is trial 1 with value: 0.8219645280931633.\u001b[0m\n",
      "\u001b[32m[I 2022-05-16 18:48:15,133]\u001b[0m Trial 7 finished with value: 0.7905050329478478 and parameters: {'n_estimators': 277, 'max_depth': 7}. Best is trial 1 with value: 0.8219645280931633.\u001b[0m\n",
      "\u001b[32m[I 2022-05-16 18:48:21,306]\u001b[0m Trial 8 finished with value: 0.8199355479283881 and parameters: {'n_estimators': 220, 'max_depth': 27}. Best is trial 1 with value: 0.8219645280931633.\u001b[0m\n",
      "\u001b[32m[I 2022-05-16 18:48:25,663]\u001b[0m Trial 9 finished with value: 0.8160773146502445 and parameters: {'n_estimators': 138, 'max_depth': 36}. Best is trial 1 with value: 0.8219645280931633.\u001b[0m\n"
     ]
    }
   ],
   "source": [
    "def objective(trial):\n",
    "      n_estimators = trial.suggest_int('n_estimators', 100, 300)\n",
    "      max_depth = trial.suggest_int('max_depth', 2, 40, 1)\n",
    "      clf = ensemble.RandomForestClassifier(n_estimators=n_estimators, \n",
    "                                            max_depth=max_depth,\n",
    "                                            random_state=1)\n",
    "      return model_selection.cross_val_score(clf, X_train, y_train, \n",
    "           n_jobs=-1, cv=5, scoring = 'f1').mean()\n",
    "      \n",
    "study = optuna.create_study(direction='maximize')\n",
    "study.optimize(objective, n_trials=10)\n"
   ]
  },
  {
   "cell_type": "code",
   "execution_count": 50,
   "metadata": {},
   "outputs": [
    {
     "name": "stdout",
     "output_type": "stream",
     "text": [
      "Train f1 score 1.00\n",
      "Test f1 score 0.82\n",
      "Наилучшие значения гиперпараметров {'n_estimators': 269, 'max_depth': 30}\n"
     ]
    }
   ],
   "source": [
    "# рассчитаем точность для тестовой выборки\n",
    "model = ensemble.RandomForestClassifier(**study.best_params,random_state=1)\n",
    "model.fit(X_train, y_train)\n",
    "print('Train f1 score {:.2f}'.format(metrics.f1_score(model.predict(X_train), y_train)))\n",
    "print('Test f1 score {:.2f}'.format(metrics.f1_score(model.predict(X_test), y_test)))\n",
    "# выводим результаты на обучающей выборке\n",
    "print(\"Наилучшие значения гиперпараметров {}\".format(study.best_params))"
   ]
  },
  {
   "cell_type": "markdown",
   "metadata": {},
   "source": [
    "Используя метод подбора гиперпараметров hyperopt и случайный лес, нам удалось улучшить значение целевой метрики до 0.83."
   ]
  }
 ],
 "metadata": {
  "interpreter": {
   "hash": "75e2287102cdf1cc2f1ef5d2efb96cb2e6f85ff96104283e2c11e44c2c43a2e7"
  },
  "kernelspec": {
   "display_name": "Python 3.8.5 ('base')",
   "language": "python",
   "name": "python3"
  },
  "language_info": {
   "codemirror_mode": {
    "name": "ipython",
    "version": 3
   },
   "file_extension": ".py",
   "mimetype": "text/x-python",
   "name": "python",
   "nbconvert_exporter": "python",
   "pygments_lexer": "ipython3",
   "version": "3.8.5"
  },
  "orig_nbformat": 4
 },
 "nbformat": 4,
 "nbformat_minor": 2
}
